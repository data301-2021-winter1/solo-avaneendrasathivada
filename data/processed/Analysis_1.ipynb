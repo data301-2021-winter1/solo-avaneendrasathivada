{
 "cells": [
  {
   "cell_type": "code",
   "execution_count": 7,
   "id": "12466921-5826-41f7-a62f-17aea376ef2b",
   "metadata": {},
   "outputs": [],
   "source": [
    "import pandas as pd\n",
    "import numpy as np\n",
    "import seaborn as sns\n",
    "import matplotlib.pyplot as plt\n",
    "%matplotlib inline \n",
    "%reload_ext autoreload\n",
    "%autoreload 2\n"
   ]
  },
  {
   "cell_type": "code",
   "execution_count": 8,
   "id": "8d238758-1d3d-4592-87fe-7f212317d2eb",
   "metadata": {},
   "outputs": [],
   "source": [
    "df = pd.read_csv(\"startup_funding.csv\")"
   ]
  },
  {
   "cell_type": "markdown",
   "id": "4fc4ba0c-3ad4-4551-a170-603e9722fc2f",
   "metadata": {},
   "source": [
    "Loading the dataset"
   ]
  },
  {
   "cell_type": "code",
   "execution_count": 9,
   "id": "c14875df-ec87-48e8-a44e-8f1d296f74e4",
   "metadata": {},
   "outputs": [],
   "source": [
    "df = df.copy().drop(['Remarks', 'Sr No'], axis=1)\n",
    "df = df.dropna(axis=0)"
   ]
  },
  {
   "cell_type": "markdown",
   "id": "7d454e9f-465b-41b3-9efd-3047832fa48d",
   "metadata": {},
   "source": [
    "droping the unnecessary columns"
   ]
  },
  {
   "cell_type": "markdown",
   "id": "ac2b1c13-498b-41d0-86b3-a54335575321",
   "metadata": {},
   "source": [
    "cleaning up date column"
   ]
  },
  {
   "cell_type": "code",
   "execution_count": 10,
   "id": "08055784-29aa-48c7-8d03-50db4e475d2c",
   "metadata": {},
   "outputs": [],
   "source": [
    "for i in df[\"Date dd/mm/yyyy\"]:\n",
    "    if(i.count(\"/\")<2):\n",
    "        if(i.count(\".\")>0):\n",
    "            df[df[\"Date dd/mm/yyyy\"]==i] = str(i).replace(\".\",\"/\")\n",
    "        elif(i.count(\"/\")>0):\n",
    "            df[df[\"Date dd/mm/yyyy\"]==i] =  i[0:5] + \"/\" + i[5:]\n"
   ]
  },
  {
   "cell_type": "code",
   "execution_count": 11,
   "id": "e9394a47-149c-4f0d-985f-3251ec649af5",
   "metadata": {},
   "outputs": [
    {
     "data": {
      "text/plain": [
       "0       2020\n",
       "1       2020\n",
       "2       2020\n",
       "3       2020\n",
       "4       2020\n",
       "        ... \n",
       "2098    2016\n",
       "2100    2016\n",
       "2101    2016\n",
       "2102    2016\n",
       "2103    2016\n",
       "Name: Year, Length: 1406, dtype: int64"
      ]
     },
     "execution_count": 11,
     "metadata": {},
     "output_type": "execute_result"
    }
   ],
   "source": [
    "\n",
    "df[\"Date\"] = pd.to_datetime(df[\"Date dd/mm/yyyy\"], errors = \"coerce\")\n",
    "df[\"Year\"] = df[\"Date\"].dt.year\n",
    "df[\"Year\"]"
   ]
  },
  {
   "cell_type": "markdown",
   "id": "d93d3448-629c-4dca-90ff-5546d950362d",
   "metadata": {},
   "source": [
    "convert strings in date to datetime object and create new column year"
   ]
  },
  {
   "cell_type": "code",
   "execution_count": 12,
   "id": "d038e606-1c4a-4dd4-9053-7c48217bae37",
   "metadata": {},
   "outputs": [
    {
     "data": {
      "text/plain": [
       "array(['E-Tech', 'Transportation', 'E-commerce', 'FinTech',\n",
       "       'Fashion and Apparel', 'Logistics', 'Hospitality', 'Technology',\n",
       "       'E-Commerce', 'Aerospace', 'B2B-focused foodtech startup', 'Video',\n",
       "       'Gaming', 'Software', 'Health and wellness', 'Education',\n",
       "       'Food and Beverage', 'Health and Wellness', 'B2B Marketing',\n",
       "       'Video Games', 'SaaS', 'Last Mile Transportation', 'Healthcare',\n",
       "       'Customer Service', 'B2B', 'Consumer Goods',\n",
       "       'Advertising, Marketing', 'IoT', 'Information Technology',\n",
       "       'Consumer Technology', 'Accounting', 'Finance',\n",
       "       'Customer Service Platform', 'Automotive', 'EdTech', 'Services',\n",
       "       'Compliance', 'Transport', 'Artificial Intelligence', 'Tech',\n",
       "       'Health Care', 'Luxury Label', 'Waste Management Service',\n",
       "       'Deep-Tech', 'Energy', 'Digital Media', 'Saas', 'Automobile',\n",
       "       'Agtech', 'Social Media', 'Fintech', 'Edtech', 'AI', 'Ecommerce',\n",
       "       'Nanotechnology', 'Services Platform', 'Travel Tech',\n",
       "       'Online Education', 'Online Marketplace', 'SaaS, Ecommerce',\n",
       "       'NBFC', 'Food', 'Food Tech', 'Automation', 'Investment',\n",
       "       'Social Network', 'Financial Tech', 'Real Estate',\n",
       "       'Logistics Tech', 'Consumer Internet', 'B2B Platform', 'Fin-Tech',\n",
       "       'Food-Tech', 'Ed-Tech', 'IT', '05/07/2018', 'Ed-tech',\n",
       "       'Clean-tech', 'Fiinance', 'Food & Beverages', 'Media',\n",
       "       'Food and Beverages', 'Publishing', 'Agriculture',\n",
       "       'Consumer internet', 'eCommerce', 'ECommerce', 'Inspiration',\n",
       "       'Lifestyle', 'Food & Beverage', 'eCommece', 'Consumer Portal',\n",
       "       'ecommerce', 'Others', 'healthcare', 'FMCG', 'Reality'],\n",
       "      dtype=object)"
      ]
     },
     "execution_count": 12,
     "metadata": {},
     "output_type": "execute_result"
    }
   ],
   "source": [
    "df[\"Industry Vertical\"].unique()"
   ]
  },
  {
   "cell_type": "markdown",
   "id": "8f564c9a-08e1-4d09-9b33-1ab79d080d2a",
   "metadata": {},
   "source": [
    "Checking for unique identifiers and cleaning up the data"
   ]
  },
  {
   "cell_type": "code",
   "execution_count": 13,
   "id": "2a791b9c-26b3-46a3-887c-03173d17ae4a",
   "metadata": {},
   "outputs": [
    {
     "data": {
      "text/plain": [
       "[34, 58, 112, 139, 20, 89, 91]"
      ]
     },
     "execution_count": 13,
     "metadata": {},
     "output_type": "execute_result"
    }
   ],
   "source": [
    "df=df.rename(columns={\"Amount in USD\":\"Amount\",\"Industry Vertical\":\"Industry_type\"})\n",
    "df.columns=[x.replace(' ','_') for x in df.columns]\n",
    "df[\"Amount\"] = [str(x).replace(',','') for x in df[\"Amount\"]]\n",
    "df[\"Amount\"] = [str(x).replace('.','') for x in df[\"Amount\"]]\n",
    "df[\"Amount\"] = [str(x).replace('+','') for x in df[\"Amount\"]]\n",
    "A = df.index[df['Amount'] == \"unknown\"].tolist()\n",
    "B = df.index[df['Amount'] == \"Undisclosed\"].tolist()\n",
    "C= df.index[df['Amount'] == \"undisclosed\"].tolist()\n",
    "df1 = A + B +C\n",
    "df1"
   ]
  },
  {
   "cell_type": "code",
   "execution_count": 14,
   "id": "11cf3d2d-75eb-4ea6-bdc3-dcf45c650f04",
   "metadata": {},
   "outputs": [],
   "source": [
    "df[\"Year\"] = df[\"Year\"].astype(int)"
   ]
  },
  {
   "cell_type": "code",
   "execution_count": 15,
   "id": "18c23195-b733-4b29-b5b0-4649ed44d1bb",
   "metadata": {},
   "outputs": [
    {
     "data": {
      "text/plain": [
       "array(['E-Tech', 'Transportation', 'E-commerce', 'FinTech',\n",
       "       'Fashion and Apparel', 'Logistics', 'Hospitality', 'Technology',\n",
       "       'E-Commerce', 'Aerospace', 'B2B-focused foodtech startup', 'Video',\n",
       "       'Gaming', 'Software', 'Health and wellness', 'Education',\n",
       "       'Food and Beverage', 'Health and Wellness', 'B2B Marketing',\n",
       "       'Video Games', 'SaaS', 'Last Mile Transportation', 'Healthcare',\n",
       "       'Customer Service', 'B2B', 'Consumer Goods',\n",
       "       'Advertising, Marketing', 'IoT', 'Information Technology',\n",
       "       'Consumer Technology', 'Accounting', 'Finance',\n",
       "       'Customer Service Platform', 'Automotive', 'EdTech', 'Services',\n",
       "       'Compliance', 'Transport', 'Artificial Intelligence', 'Tech',\n",
       "       'Health Care', 'Luxury Label', 'Waste Management Service',\n",
       "       'Deep-Tech', 'Energy', 'Digital Media', 'Saas', 'Automobile',\n",
       "       'Agtech', 'Social Media', 'Fintech', 'Edtech', 'AI', 'Ecommerce',\n",
       "       'Nanotechnology', 'Services Platform', 'Travel Tech',\n",
       "       'Online Education', 'Online Marketplace', 'SaaS, Ecommerce',\n",
       "       'NBFC', 'Food', 'Food Tech', 'Automation', 'Investment',\n",
       "       'Social Network', 'Financial Tech', 'Real Estate',\n",
       "       'Logistics Tech', 'Consumer Internet', 'B2B Platform', 'Fin-Tech',\n",
       "       'Food-Tech', 'Ed-Tech', 'IT', '05/07/2018', 'Ed-tech',\n",
       "       'Clean-tech', 'Fiinance', 'Food & Beverages', 'Media',\n",
       "       'Food and Beverages', 'Publishing', 'Agriculture',\n",
       "       'Consumer internet', 'eCommerce', 'ECommerce', 'Inspiration',\n",
       "       'Lifestyle', 'Food & Beverage', 'eCommece', 'Consumer Portal',\n",
       "       'ecommerce', 'Others', 'healthcare', 'FMCG', 'Reality'],\n",
       "      dtype=object)"
      ]
     },
     "execution_count": 15,
     "metadata": {},
     "output_type": "execute_result"
    }
   ],
   "source": [
    "df[\"Industry_type\"].unique()"
   ]
  },
  {
   "cell_type": "markdown",
   "id": "97ed3daa-0ea0-463c-8f33-cbf9f10b6064",
   "metadata": {},
   "source": [
    "Binning the same rows in similar catagories"
   ]
  },
  {
   "cell_type": "code",
   "execution_count": 16,
   "id": "625e041d-916b-44ee-b4c6-84641afcb4bb",
   "metadata": {},
   "outputs": [],
   "source": [
    "df=df.replace(\"Food-Tech\",\"FoodTech\")\n",
    "df=df.replace(\"B2B Marketing\",\"B2B\")\n",
    "df=df.replace(\"B2B Platform\",\"B2B\")\n",
    "df=df.replace(\"B2B-focused foodtech startup\",\"B2B\")\n",
    "df=df.replace(\"Consumer internet\",\"Consumer Internet\")\n",
    "df=df.replace(\"Consumer Technology\",\"Consumer Internet\")\n",
    "df=df.replace(\"Consumer Portal\",\"Consumer Internet\")\n",
    "df=df.replace(\"Consumer Goods\",\"Consumer Internet\")\n",
    "df=df.replace(\"Customer Service Platform\",\"Customer Service\")\n",
    "df=df.replace(\"E-Tech\",\"E-commerce\")\n",
    "df=df.replace(\"ECommerce\",\"E-commerce\")\n",
    "df=df.replace(\"Ecommerce'\",\"E-commerce\")\n",
    "df=df.replace(\"Ed-Tech\",\"E-commerce\")\n",
    "df=df.replace(\"Ed-tech\",\"E-commerce\")\n",
    "df=df.replace(\"EdTech\",\"E-commerce\")\n",
    "df=df.replace(\"Edtech'\",\"E-commerce\")\n",
    "df=df.replace(\"E-Commerce\",\"E-commerce\")\n",
    "df=df.replace(\"Ecommerce\",\"E-commerce\")\n",
    "df=df.replace(\"Edtech\",\"E-commerce\")\n",
    "df=df.replace(\"Deep-Tech\",\"E-commerce\")\n",
    "df=df.replace(\"Fiinance\",\"Finance\")\n",
    "df=df.replace(\"Financial Tech\",\"Finance\")\n",
    "df=df.replace(\"Fintech\",\"Finance\")\n",
    "df=df.replace(\"Fin-Tech\",\"Finance\")\n",
    "df=df.replace(\"Financial Tech\",\"Finance\")\n",
    "df=df.replace(\"FinTech\",\"Finance\")\n",
    "df=df.replace(\"Food\",\"Food & Beverage\")\n",
    "df=df.replace(\"Food & Beverages\",\"Food & Beverage\")\n",
    "df=df.replace(\"FoodTech\",\"Food & Beverage\")\n",
    "df=df.replace(\"Food Tech\",\"Food & Beverage\")\n",
    "df=df.replace(\"Food and Beverages\",\"Food & Beverage\")\n",
    "df=df.replace(\"eCommece\",\"E-commerce\")\n",
    "df=df.replace(\"eCommerce\",\"E-commerce\")\n",
    "df=df.replace(\"ecommerce\",\"E-commerce\")\n",
    "df=df.replace(\"Digital Media\",\"E-commerce\")\n",
    "df=df.replace(\"Food and Beverage\",\"Food & Beverage\")\n",
    "df=df.replace('healthcare','Health and wellness')\n",
    "df=df.replace('Healthcare','Health and wellness')\n",
    "df=df.replace('Health and Wellness','Health and wellness')\n",
    "df=df.replace('Tech', 'Technology')\n",
    "df=df.replace('Travel Tech','Technology')\n",
    "df=df.replace('Software','Technology')\n",
    "df=df.replace('Ecommerce','E-commerce')\n",
    "df=df.replace('Agtech','Agriculture')\n",
    "df=df.replace(\"AI\",'Artificial Intelligence')\n",
    "df=df.replace (\"Automation\",'Automobile')\n",
    "df=df.replace('Automotive','Automobile')\n",
    "df=df.replace(\"Nanotechnology\",'Artificial Intelligence')\n",
    "df=df.replace('Health Care','Health and wellness')\n",
    "df=df.replace('Hospitality','Health and wellness')\n",
    "df=df.replace('Online Education', 'Education')\n",
    "df=df.replace('Logistics Tech','Technology')\n",
    "df=df.replace('Clean-tech','Technology')\n",
    "df=df.replace('FMCG','Technology')\n",
    "df=df.replace('Video','Technology')\n",
    "df=df.replace('Video Games','Technology')\n",
    "df=df.replace('Services Platform','Customer Service')\n",
    "df=df.replace('Transport','Transportation')\n",
    "df=df.replace('SaaS','Others')\n",
    "df=df.replace('Reality','Others')\n",
    "df=df.replace('Last Mile Transportation','Transportation')\n",
    "df=df.replace('Saas','Transportation')\n",
    "df=df.replace('Publishing','Transportation')\n",
    "df=df.replace('SaaS','Others')\n",
    "df=df.replace('Services','Customer Service')\n",
    "df=df.replace('IT', 'Information Technology')\n",
    "df=df.replace('Inspiration', 'Investment')\n",
    "df=df.replace('IoT','Investment')\n",
    "df=df.replace('NBFC','Others')\n",
    "df=df.replace('SaaS','Others')\n",
    "df=df.replace('Social Media','Social Network')\n",
    "df=df.replace('SaaS, Ecommerce','E-commerce')\n",
    "df=df.replace('Online Marketplace','E-commerce')\n",
    "df=df.replace('Luxury Label','Others')\n",
    "df=df.replace('Media', 'Others')\n",
    "df=df.replace('Advertising, Marketing','E-commerce')\n",
    "df=df.replace('Artificial Intelligence','Technology')\n"
   ]
  },
  {
   "cell_type": "code",
   "execution_count": 17,
   "id": "e0fb1779-88bf-400f-ad82-eedbde70eb24",
   "metadata": {},
   "outputs": [
    {
     "data": {
      "text/plain": [
       "27"
      ]
     },
     "execution_count": 17,
     "metadata": {},
     "output_type": "execute_result"
    }
   ],
   "source": [
    "len(df[\"Industry_type\"].unique())"
   ]
  },
  {
   "cell_type": "code",
   "execution_count": 18,
   "id": "8b02635b-cc23-4a06-aff4-1b7bc420ffda",
   "metadata": {},
   "outputs": [],
   "source": [
    "df.columns=[x.replace(' ','_') for x in df.columns]"
   ]
  },
  {
   "cell_type": "code",
   "execution_count": 19,
   "id": "3d001f38-bb85-4884-acc2-ba70b1e6a200",
   "metadata": {},
   "outputs": [
    {
     "ename": "SyntaxError",
     "evalue": "invalid syntax (<ipython-input-19-dbd8ab0030a0>, line 1)",
     "output_type": "error",
     "traceback": [
      "\u001b[0;36m  File \u001b[0;32m\"<ipython-input-19-dbd8ab0030a0>\"\u001b[0;36m, line \u001b[0;32m1\u001b[0m\n\u001b[0;31m    cleaning the Amount column\u001b[0m\n\u001b[0m             ^\u001b[0m\n\u001b[0;31mSyntaxError\u001b[0m\u001b[0;31m:\u001b[0m invalid syntax\n"
     ]
    }
   ],
   "source": [
    "cleaning the Amount column"
   ]
  },
  {
   "cell_type": "code",
   "execution_count": 20,
   "id": "607ed95b-b10a-4c4e-ac38-c8ef27b51637",
   "metadata": {},
   "outputs": [],
   "source": [
    "df[\"Amount\"] = [str(x).replace(',','') for x in df[\"Amount\"]]\n",
    "df[\"Amount\"] = [str(x).replace('.','') for x in df[\"Amount\"]]\n",
    "df[\"Amount\"] = [str(x).replace('+','') for x in df[\"Amount\"]]"
   ]
  },
  {
   "cell_type": "code",
   "execution_count": 21,
   "id": "e02e895b-0b92-469c-b16f-cd019d485be0",
   "metadata": {},
   "outputs": [
    {
     "data": {
      "text/plain": [
       "[34, 58, 112, 139, 20, 89, 91]"
      ]
     },
     "execution_count": 21,
     "metadata": {},
     "output_type": "execute_result"
    }
   ],
   "source": [
    "A = df.index[df['Amount'] == \"unknown\"].tolist()\n",
    "B = df.index[df['Amount'] == \"Undisclosed\"].tolist()\n",
    "C= df.index[df['Amount'] == \"undisclosed\"].tolist()\n",
    "df1 = A + B +C\n",
    "df1"
   ]
  },
  {
   "cell_type": "code",
   "execution_count": 22,
   "id": "1cbf95f2-a2c0-4d7b-9bf2-978dd2348d8f",
   "metadata": {},
   "outputs": [],
   "source": [
    "df.drop(labels=df1,axis=0,inplace=True)"
   ]
  },
  {
   "cell_type": "code",
   "execution_count": null,
   "id": "b1ed50cb-dcaf-493a-b29e-a62f1214c111",
   "metadata": {},
   "outputs": [],
   "source": []
  },
  {
   "cell_type": "code",
   "execution_count": 23,
   "id": "427817d4-6bae-4150-bd95-f125eeb7c44b",
   "metadata": {},
   "outputs": [
    {
     "data": {
      "text/plain": [
       "27"
      ]
     },
     "execution_count": 23,
     "metadata": {},
     "output_type": "execute_result"
    }
   ],
   "source": [
    "len(df[\"Industry_type\"].unique())"
   ]
  },
  {
   "cell_type": "code",
   "execution_count": 24,
   "id": "03660c0d-a4ef-445f-9827-80cc2b377161",
   "metadata": {},
   "outputs": [
    {
     "data": {
      "text/html": [
       "<div>\n",
       "<style scoped>\n",
       "    .dataframe tbody tr th:only-of-type {\n",
       "        vertical-align: middle;\n",
       "    }\n",
       "\n",
       "    .dataframe tbody tr th {\n",
       "        vertical-align: top;\n",
       "    }\n",
       "\n",
       "    .dataframe thead th {\n",
       "        text-align: right;\n",
       "    }\n",
       "</style>\n",
       "<table border=\"1\" class=\"dataframe\">\n",
       "  <thead>\n",
       "    <tr style=\"text-align: right;\">\n",
       "      <th></th>\n",
       "      <th>Year</th>\n",
       "      <th>Industry_type</th>\n",
       "      <th>Amount</th>\n",
       "    </tr>\n",
       "  </thead>\n",
       "  <tbody>\n",
       "    <tr>\n",
       "      <th>0</th>\n",
       "      <td>2020</td>\n",
       "      <td>E-commerce</td>\n",
       "      <td>200000000</td>\n",
       "    </tr>\n",
       "    <tr>\n",
       "      <th>1</th>\n",
       "      <td>2020</td>\n",
       "      <td>Transportation</td>\n",
       "      <td>8048394</td>\n",
       "    </tr>\n",
       "    <tr>\n",
       "      <th>2</th>\n",
       "      <td>2020</td>\n",
       "      <td>E-commerce</td>\n",
       "      <td>18358860</td>\n",
       "    </tr>\n",
       "    <tr>\n",
       "      <th>3</th>\n",
       "      <td>2020</td>\n",
       "      <td>Finance</td>\n",
       "      <td>3000000</td>\n",
       "    </tr>\n",
       "    <tr>\n",
       "      <th>4</th>\n",
       "      <td>2020</td>\n",
       "      <td>Fashion and Apparel</td>\n",
       "      <td>1800000</td>\n",
       "    </tr>\n",
       "    <tr>\n",
       "      <th>...</th>\n",
       "      <td>...</td>\n",
       "      <td>...</td>\n",
       "      <td>...</td>\n",
       "    </tr>\n",
       "    <tr>\n",
       "      <th>2098</th>\n",
       "      <td>2016</td>\n",
       "      <td>Consumer Internet</td>\n",
       "      <td>160000</td>\n",
       "    </tr>\n",
       "    <tr>\n",
       "      <th>2100</th>\n",
       "      <td>2016</td>\n",
       "      <td>Consumer Internet</td>\n",
       "      <td>185000</td>\n",
       "    </tr>\n",
       "    <tr>\n",
       "      <th>2101</th>\n",
       "      <td>2016</td>\n",
       "      <td>Consumer Internet</td>\n",
       "      <td>17000000</td>\n",
       "    </tr>\n",
       "    <tr>\n",
       "      <th>2102</th>\n",
       "      <td>2016</td>\n",
       "      <td>E-commerce</td>\n",
       "      <td>5150000</td>\n",
       "    </tr>\n",
       "    <tr>\n",
       "      <th>2103</th>\n",
       "      <td>2016</td>\n",
       "      <td>Technology</td>\n",
       "      <td>1100000</td>\n",
       "    </tr>\n",
       "  </tbody>\n",
       "</table>\n",
       "<p>1399 rows × 3 columns</p>\n",
       "</div>"
      ],
      "text/plain": [
       "      Year        Industry_type     Amount\n",
       "0     2020           E-commerce  200000000\n",
       "1     2020       Transportation    8048394\n",
       "2     2020           E-commerce   18358860\n",
       "3     2020              Finance    3000000\n",
       "4     2020  Fashion and Apparel    1800000\n",
       "...    ...                  ...        ...\n",
       "2098  2016    Consumer Internet     160000\n",
       "2100  2016    Consumer Internet     185000\n",
       "2101  2016    Consumer Internet   17000000\n",
       "2102  2016           E-commerce    5150000\n",
       "2103  2016           Technology    1100000\n",
       "\n",
       "[1399 rows x 3 columns]"
      ]
     },
     "execution_count": 24,
     "metadata": {},
     "output_type": "execute_result"
    }
   ],
   "source": [
    "df2=df[[\"Year\",\"Industry_type\",\"Amount\"]]\n",
    "df2"
   ]
  },
  {
   "cell_type": "code",
   "execution_count": null,
   "id": "e1f595b8-4db8-4afe-84b9-3d7ca627b253",
   "metadata": {},
   "outputs": [],
   "source": []
  },
  {
   "cell_type": "code",
   "execution_count": 25,
   "id": "69d646dd-d187-4cb4-8644-655788dddb34",
   "metadata": {},
   "outputs": [],
   "source": [
    "df2 = df2[df2.Amount != \"05/07/2018\"]"
   ]
  },
  {
   "cell_type": "code",
   "execution_count": 26,
   "id": "5120182c-af5b-4d79-a0e0-b19e8ef917b7",
   "metadata": {},
   "outputs": [
    {
     "name": "stderr",
     "output_type": "stream",
     "text": [
      "<ipython-input-26-ca6660c46e6c>:7: SettingWithCopyWarning: \n",
      "A value is trying to be set on a copy of a slice from a DataFrame.\n",
      "Try using .loc[row_indexer,col_indexer] = value instead\n",
      "\n",
      "See the caveats in the documentation: https://pandas.pydata.org/pandas-docs/stable/user_guide/indexing.html#returning-a-view-versus-a-copy\n",
      "  df2['Amount'] = df2['Amount'].astype(int)\n"
     ]
    },
    {
     "data": {
      "image/png": "[encoded data removed]",
      "text/plain": [
       "<Figure size 864x432 with 1 Axes>"
      ]
     },
     "metadata": {
      "needs_background": "light"
     },
     "output_type": "display_data"
    }
   ],
   "source": [
    "plt.figure(figsize=(12,6))\n",
    "plt.xticks(rotation = 45)\n",
    "\n",
    "\n",
    "df[\"Industry_type\"].value_counts().plot(kind = \"bar\").set(xlabel=\"Investment_type\",ylabel=\"Number of startups\",title = \"total number of startups per year\")\n",
    "\n",
    "df2['Amount'] = df2['Amount'].astype(int)\n"
   ]
  },
  {
   "cell_type": "markdown",
   "id": "bbeff352-6d96-49d4-8cec-f1d47e2330c2",
   "metadata": {},
   "source": [
    "this graph describes the number of startups in each investment type and it gives the general idea of which sector did well from 2016 to 2020"
   ]
  },
  {
   "cell_type": "code",
   "execution_count": 27,
   "id": "71a78987-8ae3-429b-9d75-cb44d5859304",
   "metadata": {},
   "outputs": [
    {
     "data": {
      "text/plain": [
       "<seaborn.axisgrid.FacetGrid at 0x7fb13b530d60>"
      ]
     },
     "execution_count": 27,
     "metadata": {},
     "output_type": "execute_result"
    },
    {
     "data": {
      "image/png": "[encoded data removed]",
      "text/plain": [
       "<Figure size 360x360 with 1 Axes>"
      ]
     },
     "metadata": {
      "needs_background": "light"
     },
     "output_type": "display_data"
    }
   ],
   "source": [
    "sns.catplot(x=\"Industry_type\", y=\"Amount\", data=df2,).set(xlabel=\"Investment_type\",ylabel=\"Amount of funding received\",title = \"Investment  type vs Funding\")\n",
    "\n"
   ]
  },
  {
   "cell_type": "markdown",
   "id": "6b740a09-7809-4642-bcd3-598f3c9dba78",
   "metadata": {},
   "source": []
  },
  {
   "cell_type": "markdown",
   "id": "fd06f606-de61-400a-a762-f6184e446a8c",
   "metadata": {},
   "source": [
    "The above graphs describes the number of Investments and type of investments happened from 2016 to 2020 in india and it is clear that consumer internet,technology and ecommerce industries receied height amount of investments "
   ]
  },
  {
   "cell_type": "code",
   "execution_count": 28,
   "id": "ab31091b-d9e5-48a3-9d99-f2fdfeb549fd",
   "metadata": {},
   "outputs": [
    {
     "data": {
      "text/plain": [
       "<AxesSubplot:xlabel='Industry_type', ylabel='Amount'>"
      ]
     },
     "execution_count": 28,
     "metadata": {},
     "output_type": "execute_result"
    },
    {
     "data": {
      "image/png": "[encoded data removed]",
      "text/plain": [
       "<Figure size 864x432 with 1 Axes>"
      ]
     },
     "metadata": {
      "needs_background": "light"
     },
     "output_type": "display_data"
    }
   ],
   "source": [
    "plt.figure(figsize=(12,6))\n",
    "sns.stripplot(x=\"Industry_type\",y=\"Amount\",data=df2,jitter=True)"
   ]
  },
  {
   "cell_type": "code",
   "execution_count": 29,
   "id": "ec2e68af-f03f-4c2f-aebc-4a4a4dcd756a",
   "metadata": {},
   "outputs": [
    {
     "ename": "ValueError",
     "evalue": "invalid literal for int() with base 10: '05/07/2018'",
     "output_type": "error",
     "traceback": [
      "\u001b[0;31m---------------------------------------------------------------------------\u001b[0m",
      "\u001b[0;31mValueError\u001b[0m                                Traceback (most recent call last)",
      "\u001b[0;32m<ipython-input-29-77afe799436b>\u001b[0m in \u001b[0;36m<module>\u001b[0;34m\u001b[0m\n\u001b[0;32m----> 1\u001b[0;31m \u001b[0mdf2\u001b[0m\u001b[0;34m[\u001b[0m\u001b[0;34m'Amount'\u001b[0m\u001b[0;34m]\u001b[0m \u001b[0;34m=\u001b[0m \u001b[0mdf\u001b[0m\u001b[0;34m[\u001b[0m\u001b[0;34m'Amount'\u001b[0m\u001b[0;34m]\u001b[0m\u001b[0;34m.\u001b[0m\u001b[0mastype\u001b[0m\u001b[0;34m(\u001b[0m\u001b[0mint\u001b[0m\u001b[0;34m)\u001b[0m\u001b[0;34m\u001b[0m\u001b[0;34m\u001b[0m\u001b[0m\n\u001b[0m",
      "\u001b[0;32m/opt/anaconda3/lib/python3.8/site-packages/pandas/core/generic.py\u001b[0m in \u001b[0;36mastype\u001b[0;34m(self, dtype, copy, errors)\u001b[0m\n\u001b[1;32m   5875\u001b[0m         \u001b[0;32melse\u001b[0m\u001b[0;34m:\u001b[0m\u001b[0;34m\u001b[0m\u001b[0;34m\u001b[0m\u001b[0m\n\u001b[1;32m   5876\u001b[0m             \u001b[0;31m# else, only a single dtype is given\u001b[0m\u001b[0;34m\u001b[0m\u001b[0;34m\u001b[0m\u001b[0;34m\u001b[0m\u001b[0m\n\u001b[0;32m-> 5877\u001b[0;31m             \u001b[0mnew_data\u001b[0m \u001b[0;34m=\u001b[0m \u001b[0mself\u001b[0m\u001b[0;34m.\u001b[0m\u001b[0m_mgr\u001b[0m\u001b[0;34m.\u001b[0m\u001b[0mastype\u001b[0m\u001b[0;34m(\u001b[0m\u001b[0mdtype\u001b[0m\u001b[0;34m=\u001b[0m\u001b[0mdtype\u001b[0m\u001b[0;34m,\u001b[0m \u001b[0mcopy\u001b[0m\u001b[0;34m=\u001b[0m\u001b[0mcopy\u001b[0m\u001b[0;34m,\u001b[0m \u001b[0merrors\u001b[0m\u001b[0;34m=\u001b[0m\u001b[0merrors\u001b[0m\u001b[0;34m)\u001b[0m\u001b[0;34m\u001b[0m\u001b[0;34m\u001b[0m\u001b[0m\n\u001b[0m\u001b[1;32m   5878\u001b[0m             \u001b[0;32mreturn\u001b[0m \u001b[0mself\u001b[0m\u001b[0;34m.\u001b[0m\u001b[0m_constructor\u001b[0m\u001b[0;34m(\u001b[0m\u001b[0mnew_data\u001b[0m\u001b[0;34m)\u001b[0m\u001b[0;34m.\u001b[0m\u001b[0m__finalize__\u001b[0m\u001b[0;34m(\u001b[0m\u001b[0mself\u001b[0m\u001b[0;34m,\u001b[0m \u001b[0mmethod\u001b[0m\u001b[0;34m=\u001b[0m\u001b[0;34m\"astype\"\u001b[0m\u001b[0;34m)\u001b[0m\u001b[0;34m\u001b[0m\u001b[0;34m\u001b[0m\u001b[0m\n\u001b[1;32m   5879\u001b[0m \u001b[0;34m\u001b[0m\u001b[0m\n",
      "\u001b[0;32m/opt/anaconda3/lib/python3.8/site-packages/pandas/core/internals/managers.py\u001b[0m in \u001b[0;36mastype\u001b[0;34m(self, dtype, copy, errors)\u001b[0m\n\u001b[1;32m    629\u001b[0m         \u001b[0mself\u001b[0m\u001b[0;34m,\u001b[0m \u001b[0mdtype\u001b[0m\u001b[0;34m,\u001b[0m \u001b[0mcopy\u001b[0m\u001b[0;34m:\u001b[0m \u001b[0mbool\u001b[0m \u001b[0;34m=\u001b[0m \u001b[0;32mFalse\u001b[0m\u001b[0;34m,\u001b[0m \u001b[0merrors\u001b[0m\u001b[0;34m:\u001b[0m \u001b[0mstr\u001b[0m \u001b[0;34m=\u001b[0m \u001b[0;34m\"raise\"\u001b[0m\u001b[0;34m\u001b[0m\u001b[0;34m\u001b[0m\u001b[0m\n\u001b[1;32m    630\u001b[0m     ) -> \"BlockManager\":\n\u001b[0;32m--> 631\u001b[0;31m         \u001b[0;32mreturn\u001b[0m \u001b[0mself\u001b[0m\u001b[0;34m.\u001b[0m\u001b[0mapply\u001b[0m\u001b[0;34m(\u001b[0m\u001b[0;34m\"astype\"\u001b[0m\u001b[0;34m,\u001b[0m \u001b[0mdtype\u001b[0m\u001b[0;34m=\u001b[0m\u001b[0mdtype\u001b[0m\u001b[0;34m,\u001b[0m \u001b[0mcopy\u001b[0m\u001b[0;34m=\u001b[0m\u001b[0mcopy\u001b[0m\u001b[0;34m,\u001b[0m \u001b[0merrors\u001b[0m\u001b[0;34m=\u001b[0m\u001b[0merrors\u001b[0m\u001b[0;34m)\u001b[0m\u001b[0;34m\u001b[0m\u001b[0;34m\u001b[0m\u001b[0m\n\u001b[0m\u001b[1;32m    632\u001b[0m \u001b[0;34m\u001b[0m\u001b[0m\n\u001b[1;32m    633\u001b[0m     def convert(\n",
      "\u001b[0;32m/opt/anaconda3/lib/python3.8/site-packages/pandas/core/internals/managers.py\u001b[0m in \u001b[0;36mapply\u001b[0;34m(self, f, align_keys, ignore_failures, **kwargs)\u001b[0m\n\u001b[1;32m    425\u001b[0m                     \u001b[0mapplied\u001b[0m \u001b[0;34m=\u001b[0m \u001b[0mb\u001b[0m\u001b[0;34m.\u001b[0m\u001b[0mapply\u001b[0m\u001b[0;34m(\u001b[0m\u001b[0mf\u001b[0m\u001b[0;34m,\u001b[0m \u001b[0;34m**\u001b[0m\u001b[0mkwargs\u001b[0m\u001b[0;34m)\u001b[0m\u001b[0;34m\u001b[0m\u001b[0;34m\u001b[0m\u001b[0m\n\u001b[1;32m    426\u001b[0m                 \u001b[0;32melse\u001b[0m\u001b[0;34m:\u001b[0m\u001b[0;34m\u001b[0m\u001b[0;34m\u001b[0m\u001b[0m\n\u001b[0;32m--> 427\u001b[0;31m                     \u001b[0mapplied\u001b[0m \u001b[0;34m=\u001b[0m \u001b[0mgetattr\u001b[0m\u001b[0;34m(\u001b[0m\u001b[0mb\u001b[0m\u001b[0;34m,\u001b[0m \u001b[0mf\u001b[0m\u001b[0;34m)\u001b[0m\u001b[0;34m(\u001b[0m\u001b[0;34m**\u001b[0m\u001b[0mkwargs\u001b[0m\u001b[0;34m)\u001b[0m\u001b[0;34m\u001b[0m\u001b[0;34m\u001b[0m\u001b[0m\n\u001b[0m\u001b[1;32m    428\u001b[0m             \u001b[0;32mexcept\u001b[0m \u001b[0;34m(\u001b[0m\u001b[0mTypeError\u001b[0m\u001b[0;34m,\u001b[0m \u001b[0mNotImplementedError\u001b[0m\u001b[0;34m)\u001b[0m\u001b[0;34m:\u001b[0m\u001b[0;34m\u001b[0m\u001b[0;34m\u001b[0m\u001b[0m\n\u001b[1;32m    429\u001b[0m                 \u001b[0;32mif\u001b[0m \u001b[0;32mnot\u001b[0m \u001b[0mignore_failures\u001b[0m\u001b[0;34m:\u001b[0m\u001b[0;34m\u001b[0m\u001b[0;34m\u001b[0m\u001b[0m\n",
      "\u001b[0;32m/opt/anaconda3/lib/python3.8/site-packages/pandas/core/internals/blocks.py\u001b[0m in \u001b[0;36mastype\u001b[0;34m(self, dtype, copy, errors)\u001b[0m\n\u001b[1;32m    671\u001b[0m             \u001b[0mvals1d\u001b[0m \u001b[0;34m=\u001b[0m \u001b[0mvalues\u001b[0m\u001b[0;34m.\u001b[0m\u001b[0mravel\u001b[0m\u001b[0;34m(\u001b[0m\u001b[0;34m)\u001b[0m\u001b[0;34m\u001b[0m\u001b[0;34m\u001b[0m\u001b[0m\n\u001b[1;32m    672\u001b[0m             \u001b[0;32mtry\u001b[0m\u001b[0;34m:\u001b[0m\u001b[0;34m\u001b[0m\u001b[0;34m\u001b[0m\u001b[0m\n\u001b[0;32m--> 673\u001b[0;31m                 \u001b[0mvalues\u001b[0m \u001b[0;34m=\u001b[0m \u001b[0mastype_nansafe\u001b[0m\u001b[0;34m(\u001b[0m\u001b[0mvals1d\u001b[0m\u001b[0;34m,\u001b[0m \u001b[0mdtype\u001b[0m\u001b[0;34m,\u001b[0m \u001b[0mcopy\u001b[0m\u001b[0;34m=\u001b[0m\u001b[0;32mTrue\u001b[0m\u001b[0;34m)\u001b[0m\u001b[0;34m\u001b[0m\u001b[0;34m\u001b[0m\u001b[0m\n\u001b[0m\u001b[1;32m    674\u001b[0m             \u001b[0;32mexcept\u001b[0m \u001b[0;34m(\u001b[0m\u001b[0mValueError\u001b[0m\u001b[0;34m,\u001b[0m \u001b[0mTypeError\u001b[0m\u001b[0;34m)\u001b[0m\u001b[0;34m:\u001b[0m\u001b[0;34m\u001b[0m\u001b[0;34m\u001b[0m\u001b[0m\n\u001b[1;32m    675\u001b[0m                 \u001b[0;31m# e.g. astype_nansafe can fail on object-dtype of strings\u001b[0m\u001b[0;34m\u001b[0m\u001b[0;34m\u001b[0m\u001b[0;34m\u001b[0m\u001b[0m\n",
      "\u001b[0;32m/opt/anaconda3/lib/python3.8/site-packages/pandas/core/dtypes/cast.py\u001b[0m in \u001b[0;36mastype_nansafe\u001b[0;34m(arr, dtype, copy, skipna)\u001b[0m\n\u001b[1;32m   1072\u001b[0m         \u001b[0;31m# work around NumPy brokenness, #1987\u001b[0m\u001b[0;34m\u001b[0m\u001b[0;34m\u001b[0m\u001b[0;34m\u001b[0m\u001b[0m\n\u001b[1;32m   1073\u001b[0m         \u001b[0;32mif\u001b[0m \u001b[0mnp\u001b[0m\u001b[0;34m.\u001b[0m\u001b[0missubdtype\u001b[0m\u001b[0;34m(\u001b[0m\u001b[0mdtype\u001b[0m\u001b[0;34m.\u001b[0m\u001b[0mtype\u001b[0m\u001b[0;34m,\u001b[0m \u001b[0mnp\u001b[0m\u001b[0;34m.\u001b[0m\u001b[0minteger\u001b[0m\u001b[0;34m)\u001b[0m\u001b[0;34m:\u001b[0m\u001b[0;34m\u001b[0m\u001b[0;34m\u001b[0m\u001b[0m\n\u001b[0;32m-> 1074\u001b[0;31m             \u001b[0;32mreturn\u001b[0m \u001b[0mlib\u001b[0m\u001b[0;34m.\u001b[0m\u001b[0mastype_intsafe\u001b[0m\u001b[0;34m(\u001b[0m\u001b[0marr\u001b[0m\u001b[0;34m.\u001b[0m\u001b[0mravel\u001b[0m\u001b[0;34m(\u001b[0m\u001b[0;34m)\u001b[0m\u001b[0;34m,\u001b[0m \u001b[0mdtype\u001b[0m\u001b[0;34m)\u001b[0m\u001b[0;34m.\u001b[0m\u001b[0mreshape\u001b[0m\u001b[0;34m(\u001b[0m\u001b[0marr\u001b[0m\u001b[0;34m.\u001b[0m\u001b[0mshape\u001b[0m\u001b[0;34m)\u001b[0m\u001b[0;34m\u001b[0m\u001b[0;34m\u001b[0m\u001b[0m\n\u001b[0m\u001b[1;32m   1075\u001b[0m \u001b[0;34m\u001b[0m\u001b[0m\n\u001b[1;32m   1076\u001b[0m         \u001b[0;31m# if we have a datetime/timedelta array of objects\u001b[0m\u001b[0;34m\u001b[0m\u001b[0;34m\u001b[0m\u001b[0;34m\u001b[0m\u001b[0m\n",
      "\u001b[0;32mpandas/_libs/lib.pyx\u001b[0m in \u001b[0;36mpandas._libs.lib.astype_intsafe\u001b[0;34m()\u001b[0m\n",
      "\u001b[0;31mValueError\u001b[0m: invalid literal for int() with base 10: '05/07/2018'"
     ]
    }
   ],
   "source": [
    "df2['Amount'] = df['Amount'].astype(int)"
   ]
  },
  {
   "cell_type": "code",
   "execution_count": 30,
   "id": "ac414211-89c8-4fbb-a550-00ca557991e4",
   "metadata": {},
   "outputs": [
    {
     "data": {
      "text/plain": [
       "0       200000000\n",
       "1         8048394\n",
       "2        18358860\n",
       "3         3000000\n",
       "4         1800000\n",
       "          ...    \n",
       "2098       160000\n",
       "2100       185000\n",
       "2101     17000000\n",
       "2102      5150000\n",
       "2103      1100000\n",
       "Name: Amount, Length: 1398, dtype: int64"
      ]
     },
     "execution_count": 30,
     "metadata": {},
     "output_type": "execute_result"
    }
   ],
   "source": [
    "df2['Amount']"
   ]
  },
  {
   "cell_type": "code",
   "execution_count": 31,
   "id": "1ff1db26-3350-478d-9ced-79ebde951c59",
   "metadata": {},
   "outputs": [
    {
     "data": {
      "text/plain": [
       "count    1.398000e+03\n",
       "mean     2.155473e+07\n",
       "std      1.475122e+08\n",
       "min      1.800000e+04\n",
       "25%      5.000000e+05\n",
       "50%      2.000000e+06\n",
       "75%      8.036296e+06\n",
       "max      3.900000e+09\n",
       "Name: Amount, dtype: float64"
      ]
     },
     "execution_count": 31,
     "metadata": {},
     "output_type": "execute_result"
    }
   ],
   "source": [
    "df2[\"Amount\"].describe()#these are characterstics of all the startups together"
   ]
  },
  {
   "cell_type": "code",
   "execution_count": 32,
   "id": "e9a6adb9-274b-4fbb-ad60-6bd6842b9338",
   "metadata": {},
   "outputs": [
    {
     "data": {
      "text/plain": [
       "MultiIndex([('Amount', 'count'),\n",
       "            ('Amount',  'mean'),\n",
       "            ('Amount',   'std'),\n",
       "            ('Amount',   'min'),\n",
       "            ('Amount',   '25%'),\n",
       "            ('Amount',   '50%'),\n",
       "            ('Amount',   '75%'),\n",
       "            ('Amount',   'max')],\n",
       "           )"
      ]
     },
     "execution_count": 32,
     "metadata": {},
     "output_type": "execute_result"
    }
   ],
   "source": [
    "df3 = df2.groupby(\"Year\").describe()\n",
    "#Each Industry type characterstics\n",
    "df3.columns"
   ]
  },
  {
   "cell_type": "code",
   "execution_count": null,
   "id": "1d7670ab-7548-4421-835f-bed6ea776d28",
   "metadata": {},
   "outputs": [],
   "source": []
  },
  {
   "cell_type": "code",
   "execution_count": 33,
   "id": "95fe9705-d3f6-4839-b45c-c8446e1a43c4",
   "metadata": {},
   "outputs": [
    {
     "data": {
      "text/html": [
       "<div>\n",
       "<style scoped>\n",
       "    .dataframe tbody tr th:only-of-type {\n",
       "        vertical-align: middle;\n",
       "    }\n",
       "\n",
       "    .dataframe tbody tr th {\n",
       "        vertical-align: top;\n",
       "    }\n",
       "\n",
       "    .dataframe thead tr th {\n",
       "        text-align: left;\n",
       "    }\n",
       "\n",
       "    .dataframe thead tr:last-of-type th {\n",
       "        text-align: right;\n",
       "    }\n",
       "</style>\n",
       "<table border=\"1\" class=\"dataframe\">\n",
       "  <thead>\n",
       "    <tr>\n",
       "      <th></th>\n",
       "      <th colspan=\"8\" halign=\"left\">Amount</th>\n",
       "    </tr>\n",
       "    <tr>\n",
       "      <th></th>\n",
       "      <th>count</th>\n",
       "      <th>mean</th>\n",
       "      <th>std</th>\n",
       "      <th>min</th>\n",
       "      <th>25%</th>\n",
       "      <th>50%</th>\n",
       "      <th>75%</th>\n",
       "      <th>max</th>\n",
       "    </tr>\n",
       "    <tr>\n",
       "      <th>Year</th>\n",
       "      <th></th>\n",
       "      <th></th>\n",
       "      <th></th>\n",
       "      <th></th>\n",
       "      <th></th>\n",
       "      <th></th>\n",
       "      <th></th>\n",
       "      <th></th>\n",
       "    </tr>\n",
       "  </thead>\n",
       "  <tbody>\n",
       "    <tr>\n",
       "      <th>2016</th>\n",
       "      <td>584.0</td>\n",
       "      <td>6.554856e+06</td>\n",
       "      <td>1.960837e+07</td>\n",
       "      <td>22500.0</td>\n",
       "      <td>250000.0</td>\n",
       "      <td>1000000.0</td>\n",
       "      <td>4050000.0</td>\n",
       "      <td>2.000000e+08</td>\n",
       "    </tr>\n",
       "    <tr>\n",
       "      <th>2017</th>\n",
       "      <td>455.0</td>\n",
       "      <td>2.291563e+07</td>\n",
       "      <td>1.521641e+08</td>\n",
       "      <td>18000.0</td>\n",
       "      <td>560000.0</td>\n",
       "      <td>2250000.0</td>\n",
       "      <td>7650000.0</td>\n",
       "      <td>2.500000e+09</td>\n",
       "    </tr>\n",
       "    <tr>\n",
       "      <th>2018</th>\n",
       "      <td>252.0</td>\n",
       "      <td>1.788505e+07</td>\n",
       "      <td>4.066260e+07</td>\n",
       "      <td>80000.0</td>\n",
       "      <td>1000000.0</td>\n",
       "      <td>4000000.0</td>\n",
       "      <td>14710000.0</td>\n",
       "      <td>3.000000e+08</td>\n",
       "    </tr>\n",
       "    <tr>\n",
       "      <th>2019</th>\n",
       "      <td>100.0</td>\n",
       "      <td>1.098163e+08</td>\n",
       "      <td>4.297451e+08</td>\n",
       "      <td>145000.0</td>\n",
       "      <td>3225000.0</td>\n",
       "      <td>14671000.0</td>\n",
       "      <td>51000000.0</td>\n",
       "      <td>3.900000e+09</td>\n",
       "    </tr>\n",
       "    <tr>\n",
       "      <th>2020</th>\n",
       "      <td>7.0</td>\n",
       "      <td>5.574389e+07</td>\n",
       "      <td>8.290898e+07</td>\n",
       "      <td>1800000.0</td>\n",
       "      <td>5524197.0</td>\n",
       "      <td>9000000.0</td>\n",
       "      <td>84179430.0</td>\n",
       "      <td>2.000000e+08</td>\n",
       "    </tr>\n",
       "  </tbody>\n",
       "</table>\n",
       "</div>"
      ],
      "text/plain": [
       "     Amount                                                                \\\n",
       "      count          mean           std        min        25%         50%   \n",
       "Year                                                                        \n",
       "2016  584.0  6.554856e+06  1.960837e+07    22500.0   250000.0   1000000.0   \n",
       "2017  455.0  2.291563e+07  1.521641e+08    18000.0   560000.0   2250000.0   \n",
       "2018  252.0  1.788505e+07  4.066260e+07    80000.0  1000000.0   4000000.0   \n",
       "2019  100.0  1.098163e+08  4.297451e+08   145000.0  3225000.0  14671000.0   \n",
       "2020    7.0  5.574389e+07  8.290898e+07  1800000.0  5524197.0   9000000.0   \n",
       "\n",
       "                                \n",
       "             75%           max  \n",
       "Year                            \n",
       "2016   4050000.0  2.000000e+08  \n",
       "2017   7650000.0  2.500000e+09  \n",
       "2018  14710000.0  3.000000e+08  \n",
       "2019  51000000.0  3.900000e+09  \n",
       "2020  84179430.0  2.000000e+08  "
      ]
     },
     "execution_count": 33,
     "metadata": {},
     "output_type": "execute_result"
    }
   ],
   "source": [
    "df3"
   ]
  },
  {
   "cell_type": "code",
   "execution_count": 34,
   "id": "866fb23c-6542-49ca-8cca-d0f483dac97f",
   "metadata": {},
   "outputs": [
    {
     "data": {
      "text/plain": [
       "[Text(0.5, 0, 'Year'),\n",
       " Text(0, 0.5, 'Mean'),\n",
       " Text(0.5, 1.0, 'Mean Investments per year')]"
      ]
     },
     "execution_count": 34,
     "metadata": {},
     "output_type": "execute_result"
    },
    {
     "data": {
      "image/png": "[encoded data removed]",
      "text/plain": [
       "<Figure size 432x288 with 1 Axes>"
      ]
     },
     "metadata": {
      "needs_background": "light"
     },
     "output_type": "display_data"
    }
   ],
   "source": [
    "df2.groupby(\"Industry_type\").describe()\n",
    "\n",
    "sns.barplot(y=df3[(\"Amount\", \"mean\")], x = [\"2016\",\"2017\", \"2018\", \"2019\", \"2020\"], data= df3).set(xlabel=\"Year\",ylabel=\"Mean\",title = \"Mean Investments per year\")"
   ]
  },
  {
   "cell_type": "markdown",
   "id": "1f3377ac-59a0-45c5-a13b-bd7c05701031",
   "metadata": {},
   "source": [
    "The above graph describe the relation between the year and sample average  amount of investment that all the startups received in that particular year and it is clear that 2019 has the highest sample average of amount compared to rest of the years "
   ]
  },
  {
   "cell_type": "code",
   "execution_count": 35,
   "id": "052857d5-21d0-46e1-b4c9-d2ca8c1218b1",
   "metadata": {},
   "outputs": [
    {
     "data": {
      "text/plain": [
       "[Text(0.5, 0, 'Year'),\n",
       " Text(0, 0.5, 'Amount'),\n",
       " Text(0.5, 1.0, 'Number of Investments per year')]"
      ]
     },
     "execution_count": 35,
     "metadata": {},
     "output_type": "execute_result"
    },
    {
     "data": {
      "image/png": "[encoded data removed]",
      "text/plain": [
       "<Figure size 432x288 with 1 Axes>"
      ]
     },
     "metadata": {
      "needs_background": "light"
     },
     "output_type": "display_data"
    }
   ],
   "source": [
    "sns.barplot(y=df3[(\"Amount\", \"count\")], x = [\"2016\",\"2017\", \"2018\", \"2019\", \"2020\"], data= df3).set(xlabel=\"Year\",ylabel=\"Amount\",title = \"Number of Investments per year\")"
   ]
  },
  {
   "cell_type": "markdown",
   "id": "055aa1f7-662c-4ae5-a954-fb7170d230d4",
   "metadata": {},
   "source": []
  },
  {
   "cell_type": "markdown",
   "id": "6d4bcea4-fda4-4f58-af10-27de6767a601",
   "metadata": {},
   "source": [
    "the above graph describe the relation between the year and number of startups that happended in india in each particular year and its clear that 2016 has more startups than any other year."
   ]
  },
  {
   "cell_type": "code",
   "execution_count": 36,
   "id": "bd26fd17-393a-4617-9b91-5165957313cc",
   "metadata": {},
   "outputs": [
    {
     "data": {
      "text/html": [
       "<div>\n",
       "<style scoped>\n",
       "    .dataframe tbody tr th:only-of-type {\n",
       "        vertical-align: middle;\n",
       "    }\n",
       "\n",
       "    .dataframe tbody tr th {\n",
       "        vertical-align: top;\n",
       "    }\n",
       "\n",
       "    .dataframe thead tr th {\n",
       "        text-align: left;\n",
       "    }\n",
       "\n",
       "    .dataframe thead tr:last-of-type th {\n",
       "        text-align: right;\n",
       "    }\n",
       "</style>\n",
       "<table border=\"1\" class=\"dataframe\">\n",
       "  <thead>\n",
       "    <tr>\n",
       "      <th></th>\n",
       "      <th colspan=\"8\" halign=\"left\">Amount</th>\n",
       "    </tr>\n",
       "    <tr>\n",
       "      <th></th>\n",
       "      <th>count</th>\n",
       "      <th>mean</th>\n",
       "      <th>std</th>\n",
       "      <th>min</th>\n",
       "      <th>25%</th>\n",
       "      <th>50%</th>\n",
       "      <th>75%</th>\n",
       "      <th>max</th>\n",
       "    </tr>\n",
       "    <tr>\n",
       "      <th>Year</th>\n",
       "      <th></th>\n",
       "      <th></th>\n",
       "      <th></th>\n",
       "      <th></th>\n",
       "      <th></th>\n",
       "      <th></th>\n",
       "      <th></th>\n",
       "      <th></th>\n",
       "    </tr>\n",
       "  </thead>\n",
       "  <tbody>\n",
       "    <tr>\n",
       "      <th>2016</th>\n",
       "      <td>584.0</td>\n",
       "      <td>6.554856e+06</td>\n",
       "      <td>1.960837e+07</td>\n",
       "      <td>22500.0</td>\n",
       "      <td>250000.0</td>\n",
       "      <td>1000000.0</td>\n",
       "      <td>4050000.0</td>\n",
       "      <td>2.000000e+08</td>\n",
       "    </tr>\n",
       "    <tr>\n",
       "      <th>2017</th>\n",
       "      <td>455.0</td>\n",
       "      <td>2.291563e+07</td>\n",
       "      <td>1.521641e+08</td>\n",
       "      <td>18000.0</td>\n",
       "      <td>560000.0</td>\n",
       "      <td>2250000.0</td>\n",
       "      <td>7650000.0</td>\n",
       "      <td>2.500000e+09</td>\n",
       "    </tr>\n",
       "    <tr>\n",
       "      <th>2018</th>\n",
       "      <td>252.0</td>\n",
       "      <td>1.788505e+07</td>\n",
       "      <td>4.066260e+07</td>\n",
       "      <td>80000.0</td>\n",
       "      <td>1000000.0</td>\n",
       "      <td>4000000.0</td>\n",
       "      <td>14710000.0</td>\n",
       "      <td>3.000000e+08</td>\n",
       "    </tr>\n",
       "    <tr>\n",
       "      <th>2019</th>\n",
       "      <td>100.0</td>\n",
       "      <td>1.098163e+08</td>\n",
       "      <td>4.297451e+08</td>\n",
       "      <td>145000.0</td>\n",
       "      <td>3225000.0</td>\n",
       "      <td>14671000.0</td>\n",
       "      <td>51000000.0</td>\n",
       "      <td>3.900000e+09</td>\n",
       "    </tr>\n",
       "    <tr>\n",
       "      <th>2020</th>\n",
       "      <td>7.0</td>\n",
       "      <td>5.574389e+07</td>\n",
       "      <td>8.290898e+07</td>\n",
       "      <td>1800000.0</td>\n",
       "      <td>5524197.0</td>\n",
       "      <td>9000000.0</td>\n",
       "      <td>84179430.0</td>\n",
       "      <td>2.000000e+08</td>\n",
       "    </tr>\n",
       "  </tbody>\n",
       "</table>\n",
       "</div>"
      ],
      "text/plain": [
       "     Amount                                                                \\\n",
       "      count          mean           std        min        25%         50%   \n",
       "Year                                                                        \n",
       "2016  584.0  6.554856e+06  1.960837e+07    22500.0   250000.0   1000000.0   \n",
       "2017  455.0  2.291563e+07  1.521641e+08    18000.0   560000.0   2250000.0   \n",
       "2018  252.0  1.788505e+07  4.066260e+07    80000.0  1000000.0   4000000.0   \n",
       "2019  100.0  1.098163e+08  4.297451e+08   145000.0  3225000.0  14671000.0   \n",
       "2020    7.0  5.574389e+07  8.290898e+07  1800000.0  5524197.0   9000000.0   \n",
       "\n",
       "                                \n",
       "             75%           max  \n",
       "Year                            \n",
       "2016   4050000.0  2.000000e+08  \n",
       "2017   7650000.0  2.500000e+09  \n",
       "2018  14710000.0  3.000000e+08  \n",
       "2019  51000000.0  3.900000e+09  \n",
       "2020  84179430.0  2.000000e+08  "
      ]
     },
     "execution_count": 36,
     "metadata": {},
     "output_type": "execute_result"
    }
   ],
   "source": [
    "df2.groupby(\"Year\").describe()"
   ]
  },
  {
   "cell_type": "markdown",
   "id": "d97a89b9-dc8a-42e7-b68e-ab506de9e055",
   "metadata": {},
   "source": [
    "how did the different types of startups in india performed from 2016 to 2020?\n",
    "Based on the above the graphs its clear that 2016 has more startups than rest of the years yet the maximum amount investment received in the 2019 and also most of the starts ups that happened from 2016 to 2020 are consumer internet and ecommerce types."
   ]
  },
  {
   "cell_type": "markdown",
   "id": "cac7c5bb-3ef6-488b-af03-252931fe3ae8",
   "metadata": {},
   "source": [
    "Method Chaining"
   ]
  },
  {
   "cell_type": "code",
   "execution_count": 1,
   "id": "510ff147-9d52-45a2-b2e1-183842c73382",
   "metadata": {},
   "outputs": [
    {
     "ename": "NameError",
     "evalue": "name 'pd' is not defined",
     "output_type": "error",
     "traceback": [
      "\u001b[0;31m---------------------------------------------------------------------------\u001b[0m",
      "\u001b[0;31mNameError\u001b[0m                                 Traceback (most recent call last)",
      "\u001b[0;32m<ipython-input-1-4874a3694237>\u001b[0m in \u001b[0;36m<module>\u001b[0;34m\u001b[0m\n\u001b[1;32m      1\u001b[0m df_toClean = (\n\u001b[0;32m----> 2\u001b[0;31m         \u001b[0mpd\u001b[0m\u001b[0;34m.\u001b[0m\u001b[0mread_csv\u001b[0m\u001b[0;34m(\u001b[0m\u001b[0;34m\"startup_funding.csv\"\u001b[0m\u001b[0;34m)\u001b[0m\u001b[0;34m\u001b[0m\u001b[0;34m\u001b[0m\u001b[0m\n\u001b[0m\u001b[1;32m      3\u001b[0m         \u001b[0;34m.\u001b[0m\u001b[0mdrop\u001b[0m\u001b[0;34m(\u001b[0m\u001b[0;34m[\u001b[0m\u001b[0;34m'Remarks'\u001b[0m\u001b[0;34m,\u001b[0m \u001b[0;34m'Sr No'\u001b[0m\u001b[0;34m]\u001b[0m\u001b[0;34m,\u001b[0m \u001b[0maxis\u001b[0m\u001b[0;34m=\u001b[0m\u001b[0;36m1\u001b[0m\u001b[0;34m)\u001b[0m\u001b[0;34m\u001b[0m\u001b[0;34m\u001b[0m\u001b[0m\n\u001b[1;32m      4\u001b[0m         \u001b[0;34m.\u001b[0m\u001b[0mdropna\u001b[0m\u001b[0;34m(\u001b[0m\u001b[0maxis\u001b[0m\u001b[0;34m=\u001b[0m\u001b[0;36m0\u001b[0m\u001b[0;34m)\u001b[0m\u001b[0;34m\u001b[0m\u001b[0;34m\u001b[0m\u001b[0m\n\u001b[1;32m      5\u001b[0m         \u001b[0;34m.\u001b[0m\u001b[0mapply\u001b[0m\u001b[0;34m(\u001b[0m\u001b[0;32mlambda\u001b[0m \u001b[0mx\u001b[0m\u001b[0;34m:\u001b[0m \u001b[0mx\u001b[0m\u001b[0;34m.\u001b[0m\u001b[0mreplace\u001b[0m\u001b[0;34m(\u001b[0m\u001b[0;34m\".\"\u001b[0m\u001b[0;34m,\u001b[0m \u001b[0;34m\"/\"\u001b[0m\u001b[0;34m)\u001b[0m \u001b[0;32mif\u001b[0m \u001b[0mx\u001b[0m\u001b[0;34m.\u001b[0m\u001b[0mname\u001b[0m \u001b[0;34m==\u001b[0m \u001b[0;34m\"Date dd/mm/yyyy\"\u001b[0m \u001b[0;32melse\u001b[0m \u001b[0mx\u001b[0m\u001b[0;34m)\u001b[0m\u001b[0;34m\u001b[0m\u001b[0;34m\u001b[0m\u001b[0m\n",
      "\u001b[0;31mNameError\u001b[0m: name 'pd' is not defined"
     ]
    }
   ],
   "source": [
    "df_toClean = (\n",
    "        pd.read_csv(\"startup_funding.csv\")\n",
    "        .drop(['Remarks', 'Sr No'], axis=1)\n",
    "        .dropna(axis=0)\n",
    "        .apply(lambda x: x.replace(\".\", \"/\") if x.name == \"Date dd/mm/yyyy\" else x)\n",
    "        .assign(Date = lambda x: pd.to_datetime(x[\"Date dd/mm/yyyy\"], errors = \"coerce\"))\n",
    "        .assign(Year = lambda x: x[\"Date\"].dt.year)\n",
    "        .rename(columns={\"Amount in USD\":\"Amount\",\"Industry Vertical\":\"Industry_type\"})\n",
    "        .replace(\"Food-Tech\",\"FoodTech\")\n",
    "        .replace(\"B2B Marketing\",\"B2B\")\n",
    "        .replace(\"B2B Platform\",\"B2B\")\n",
    "        .replace(\"B2B-focused foodtech startup\",\"B2B\")\n",
    "        .replace(\"Consumer internet\",\"Consumer Internet\")\n",
    "        .replace(\"Consumer Technology\",\"Consumer Internet\")\n",
    "        .replace(\"Consumer Portal\",\"Consumer Internet\")\n",
    "        .replace(\"Consumer Goods\",\"Consumer Internet\")\n",
    "        .replace(\"Customer Service Platform\",\"Customer Service\")\n",
    "        .replace(\"E-Tech\",\"E-commerce\")\n",
    "        .replace(\"ECommerce\",\"E-commerce\")\n",
    "        .replace(\"Ecommerce'\",\"E-commerce\")\n",
    "        .replace(\"Ed-Tech\",\"E-commerce\")\n",
    "        .replace(\"Ed-tech\",\"E-commerce\")\n",
    "        .replace(\"EdTech\",\"E-commerce\")\n",
    "        .replace(\"Edtech'\",\"E-commerce\")\n",
    "        .replace(\"E-Commerce\",\"E-commerce\")\n",
    "        .replace(\"Ecommerce\",\"E-commerce\")\n",
    "        .replace(\"Edtech\",\"E-commerce\")\n",
    "        .replace(\"Deep-Tech\",\"E-commerce\")\n",
    "        .replace(\"Fiinance\",\"Finance\")\n",
    "        .replace(\"Financial Tech\",\"Finance\")\n",
    "        .replace(\"Fintech\",\"Finance\")\n",
    "        .replace(\"Fin-Tech\",\"Finance\")\n",
    "        .replace(\"Financial Tech\",\"Finance\")\n",
    "        .replace(\"FinTech\",\"Finance\")\n",
    "        .replace(\"Food\",\"Food & Beverage\")\n",
    "        .replace(\"Food & Beverages\",\"Food & Beverage\")\n",
    "        .replace(\"FoodTech\",\"Food & Beverage\")\n",
    "        .replace(\"Food Tech\",\"Food & Beverage\")\n",
    "        .replace(\"Food and Beverages\",\"Food & Beverage\")\n",
    "        .replace(\"eCommece\",\"E-commerce\")\n",
    "        .replace(\"eCommerce\",\"E-commerce\")\n",
    "        .replace(\"ecommerce\",\"E-commerce\")\n",
    "        .replace(\"Digital Media\",\"E-commerce\")\n",
    "        .replace(\"Food and Beverage\",\"Food & Beverage\")\n",
    "        .replace('healthcare','Health and wellness')\n",
    "        .replace('Healthcare','Health and wellness')\n",
    "        .replace('Health and Wellness','Health and wellness')\n",
    "        .replace('Tech', 'Technology')\n",
    "        .replace('Travel Tech','Technology')\n",
    "        .replace('Software','Technology')\n",
    "        .replace('Ecommerce','E-commerce')\n",
    "        .replace('Agtech','Agriculture')\n",
    "        .replace(\"AI\",'Artificial Intelligence')\n",
    "        .replace (\"Automation\",'Automobile')\n",
    "        .replace('Automotive','Automobile')\n",
    "        .replace(\"Nanotechnology\",'Artificial Intelligence')\n",
    "        .replace('Health Care','Health and wellness')\n",
    "        .replace('Hospitality','Health and wellness')\n",
    "        .replace('Online Education', 'Education')\n",
    "        .replace('Logistics Tech','Technology')\n",
    "        .replace('Clean-tech','Technology')\n",
    "        .replace('FMCG','Technology')\n",
    "        .replace('Video','Technology')\n",
    "        .replace('Video Games','Technology')\n",
    "        .replace('Services Platform','Customer Service')\n",
    "        .replace('Transport','Transportation')\n",
    "        .replace('SaaS','Others')\n",
    "        .replace('Reality','Others')\n",
    "        .replace('Last Mile Transportation','Transportation')\n",
    "        .replace('Saas','Transportation')\n",
    "        .replace('Publishing','Transportation')\n",
    "        .replace('SaaS','Others')\n",
    "        .replace('Services','Customer Service')\n",
    "        .replace('IT', 'Information Technology')\n",
    "        .replace('Inspiration', 'Investment')\n",
    "        .replace('IoT','Investment')\n",
    "        .replace('NBFC','Others')\n",
    "        .replace('SaaS','Others')\n",
    "        .replace('Social Media','Social Network')\n",
    "        .replace('SaaS, Ecommerce','E-commerce')\n",
    "        .replace('Online Marketplace','E-commerce')\n",
    "        .replace('Luxury Label','Others')\n",
    "        .replace('Media', 'Others')\n",
    "        .replace('Advertising, Marketing','E-commerce')\n",
    "        .replace('Artificial Intelligence','Technology')\n",
    "    )\n",
    "df_toClean.head()"
   ]
  },
  {
   "cell_type": "code",
   "execution_count": null,
   "id": "01dba98f-643f-4690-a728-7048bf0ca711",
   "metadata": {},
   "outputs": [],
   "source": []
  }
 ],
 "metadata": {
  "kernelspec": {
   "display_name": "Python 3",
   "language": "python",
   "name": "python3"
  },
  "language_info": {
   "codemirror_mode": {
    "name": "ipython",
    "version": 3
   },
   "file_extension": ".py",
   "mimetype": "text/x-python",
   "name": "python",
   "nbconvert_exporter": "python",
   "pygments_lexer": "ipython3",
   "version": "3.8.8"
  }
 },
 "nbformat": 4,
 "nbformat_minor": 5
}
